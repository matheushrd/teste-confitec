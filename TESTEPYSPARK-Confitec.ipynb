{
 "cells": [
  {
   "cell_type": "markdown",
   "id": "6687c25e",
   "metadata": {},
   "source": [
    "## Teste técnico - Confitec\n",
    "### Matheus Damasceno"
   ]
  },
  {
   "cell_type": "code",
   "execution_count": 1,
   "id": "6ae44682",
   "metadata": {},
   "outputs": [],
   "source": [
    "from pyspark.sql import SparkSession\n",
    "from pyspark.sql.functions import udf, concat, col\n",
    "from translate import Translator\n",
    "from pyspark.sql.types import *\n",
    "import pandas as pd\n",
    "from tqdm import tqdm"
   ]
  },
  {
   "cell_type": "code",
   "execution_count": 2,
   "id": "1f2ba61d",
   "metadata": {},
   "outputs": [],
   "source": [
    "spark = SparkSession \\\n",
    "        .builder \\\n",
    "        .appName(\"lead\") \\\n",
    "        .enableHiveSupport() \\\n",
    "        .config(\"spark.executor.heartbeatInterval\",\"8000\") \\\n",
    "        .getOrCreate()"
   ]
  },
  {
   "cell_type": "code",
   "execution_count": 3,
   "id": "e3ed1444",
   "metadata": {},
   "outputs": [],
   "source": [
    "originals_netflix = spark.read.parquet(\"./OriginaisNetflix.parquet\")"
   ]
  },
  {
   "cell_type": "markdown",
   "id": "8d165ca3",
   "metadata": {},
   "source": [
    "### 1. Transformar   os   campos   \"Premiere\"   e   \"dt_inclusao\"   de   string   para   datetime.  "
   ]
  },
  {
   "cell_type": "code",
   "execution_count": 4,
   "id": "8d71efeb",
   "metadata": {},
   "outputs": [
    {
     "name": "stdout",
     "output_type": "stream",
     "text": [
      "root\n",
      " |-- Title: string (nullable = true)\n",
      " |-- Genre: string (nullable = true)\n",
      " |-- GenreLabels: string (nullable = true)\n",
      " |-- Seasons: string (nullable = true)\n",
      " |-- SeasonsParsed: long (nullable = true)\n",
      " |-- EpisodesParsed: long (nullable = true)\n",
      " |-- Length: string (nullable = true)\n",
      " |-- MinLength: long (nullable = true)\n",
      " |-- MaxLength: long (nullable = true)\n",
      " |-- Status: string (nullable = true)\n",
      " |-- Active: long (nullable = true)\n",
      " |-- Table: string (nullable = true)\n",
      " |-- Language: string (nullable = true)\n",
      " |-- Premiere: date (nullable = true)\n",
      " |-- dt_inclusao: timestamp (nullable = true)\n",
      "\n"
     ]
    }
   ],
   "source": [
    "originals_netflix.createOrReplaceTempView('originals_netflix')\n",
    "originals_netflix_modified = spark.sql(\"\"\"\n",
    "    SELECT\n",
    "    Title,\n",
    "    Genre,\n",
    "    GenreLabels,\n",
    "    Seasons,\n",
    "    SeasonsParsed,\n",
    "    EpisodesParsed,\n",
    "    Length,\n",
    "    MinLength,\n",
    "    MaxLength,\n",
    "    Status,\n",
    "    Active,\n",
    "    Table,\n",
    "    Language,\n",
    "    to_date(Premiere, 'd-MMM-y') AS Premiere,\n",
    "    CAST(dt_inclusao AS timestamp) AS dt_inclusao\n",
    "    FROM originals_netflix\n",
    "\"\"\")\n",
    "originals_netflix_modified.printSchema()\n",
    "originals_netflix_modified.createOrReplaceTempView('originals_netflix_modified')"
   ]
  },
  {
   "cell_type": "markdown",
   "id": "bec9995d",
   "metadata": {},
   "source": [
    "### 2. Ordenar   os   dados   por   ativos   e   gênero   de   forma   decrescente,   0   =   inativo   e   1   =   ativo,   todos   com   número   1   devem   aparecer   primeiro.   \n",
    "### 3. Remover linhas duplicadas e trocar o resultado das linhas que tiverem a coluna \"Seasons\" de \"TBA\" para \"a ser anunciado\".\n",
    "### 4. Criar uma coluna nova chamada \"Data de Alteração\" e dentro dela um timestamp.\n",
    "### 5. Trocar os nomes das colunas de inglês para português, exemplo: \"Title\" para \"Título\" (com acentuação)."
   ]
  },
  {
   "cell_type": "code",
   "execution_count": 5,
   "id": "ec1e0834",
   "metadata": {},
   "outputs": [
    {
     "name": "stdout",
     "output_type": "stream",
     "text": [
      "root\n",
      " |-- Title: string (nullable = true)\n",
      " |-- Genre: string (nullable = true)\n",
      " |-- GenreLabels: string (nullable = true)\n",
      " |-- Seasons: string (nullable = true)\n",
      " |-- SeasonsParsed: long (nullable = true)\n",
      " |-- EpisodesParsed: long (nullable = true)\n",
      " |-- Length: string (nullable = true)\n",
      " |-- MinLength: long (nullable = true)\n",
      " |-- MaxLength: long (nullable = true)\n",
      " |-- Status: string (nullable = true)\n",
      " |-- Active: long (nullable = true)\n",
      " |-- Table: string (nullable = true)\n",
      " |-- Language: string (nullable = true)\n",
      " |-- Premiere: date (nullable = true)\n",
      " |-- dt_inclusao: timestamp (nullable = true)\n",
      " |-- Data de Alteração: date (nullable = false)\n",
      "\n",
      "+--------+--------------------+--------------------+--------------------+-------------+--------------+----------+---------+---------+-------+------+------+--------+----------+--------------------+-----------------+--------------------+\n",
      "|   Title|               Genre|         GenreLabels|             Seasons|SeasonsParsed|EpisodesParsed|    Length|MinLength|MaxLength| Status|Active| Table|Language|  Premiere|         dt_inclusao|Data de Alteração|              Título|\n",
      "+--------+--------------------+--------------------+--------------------+-------------+--------------+----------+---------+---------+-------+------+------+--------+----------+--------------------+-----------------+--------------------+\n",
      "|Atypical|Coming-of-age comedy|coming-of-age,comedy|2 seasons, 18 epi...|            2|            18|26–38 min.|       26|       38|Renewed|     1|Comedy| English|0017-08-11|2021-03-16 21:20:...|       2021-10-28|MYMEMORY WARNING:...|\n",
      "+--------+--------------------+--------------------+--------------------+-------------+--------------+----------+---------+---------+-------+------+------+--------+----------+--------------------+-----------------+--------------------+\n",
      "only showing top 1 row\n",
      "\n"
     ]
    }
   ],
   "source": [
    "@udf(returnType=StringType()) \n",
    "def translation(string):\n",
    "    translator = Translator(to_lang = \"pt-BR\") \n",
    "    translated = translator.translate(string)\n",
    "    return translated\n",
    "\n",
    "#translatedUDF = udf(lambda z: translation(z), StringType())\n",
    "\n",
    "originals_netflix_modified = spark.sql(\"\"\"\n",
    "    SELECT DISTINCT\n",
    "    Title,\n",
    "    Genre,\n",
    "    GenreLabels,\n",
    "    CASE\n",
    "        WHEN Seasons LIKE '%TBA%' THEN 'a   ser   anunciado'\n",
    "        ELSE Seasons\n",
    "    END AS Seasons,\n",
    "    SeasonsParsed,\n",
    "    EpisodesParsed,\n",
    "    Length,\n",
    "    MinLength,\n",
    "    MaxLength,\n",
    "    Status,\n",
    "    Active,\n",
    "    Table,\n",
    "    Language,\n",
    "    Premiere,\n",
    "    dt_inclusao,\n",
    "    current_date AS `Data de Alteração`\n",
    "    FROM originals_netflix_modified\n",
    "    ORDER BY Active DESC\n",
    "\"\"\")\n",
    "originals_netflix_modified.printSchema()\n",
    "originals_netflix_modified.createOrReplaceTempView('originals_netflix_modified')\n",
    "originals_netflix_modified = originals_netflix_modified.withColumn(\"Título\", translation(\"Title\"))\n",
    "originals_netflix_modified.show(10)"
   ]
  },
  {
   "cell_type": "markdown",
   "id": "794dbcf8",
   "metadata": {},
   "source": [
    "### 6. Testar e verificar se existe algum erro de processamento do spark e identificar onde pode ter ocorrido o erro.\n"
   ]
  },
  {
   "cell_type": "code",
   "execution_count": null,
   "id": "657c8565",
   "metadata": {},
   "outputs": [],
   "source": [
    "originals_netflix.select('Premiere').collect()"
   ]
  },
  {
   "cell_type": "code",
   "execution_count": null,
   "id": "73dc7ba2",
   "metadata": {},
   "outputs": [],
   "source": [
    "originals_netflix_modified.select('Premiere').collect()"
   ]
  },
  {
   "cell_type": "code",
   "execution_count": null,
   "id": "e68ea715",
   "metadata": {},
   "outputs": [],
   "source": [
    "originals_netflix.select('dt_inclusao').collect()"
   ]
  },
  {
   "cell_type": "code",
   "execution_count": null,
   "id": "69ea31f3",
   "metadata": {},
   "outputs": [],
   "source": [
    "originals_netflix_modified.select('dt_inclusao').collect()"
   ]
  },
  {
   "cell_type": "code",
   "execution_count": null,
   "id": "0c291413",
   "metadata": {},
   "outputs": [],
   "source": [
    "originals_netflix_modified.select('Data de Alteração').collect()"
   ]
  },
  {
   "cell_type": "code",
   "execution_count": null,
   "metadata": {},
   "outputs": [
    {
     "ename": "AttributeError",
     "evalue": "'NoneType' object has no attribute 'printSchema'",
     "output_type": "error",
     "traceback": [
      "\u001b[1;31m---------------------------------------------------------------------------\u001b[0m",
      "\u001b[1;31mAttributeError\u001b[0m                            Traceback (most recent call last)",
      "\u001b[1;32m<ipython-input-10-8cb30ecf30fd>\u001b[0m in \u001b[0;36m<module>\u001b[1;34m\u001b[0m\n\u001b[1;32m----> 1\u001b[1;33m \u001b[0moriginals_netflix_modified\u001b[0m\u001b[1;33m.\u001b[0m\u001b[0mprintSchema\u001b[0m\u001b[1;33m(\u001b[0m\u001b[1;33m)\u001b[0m\u001b[1;33m\u001b[0m\u001b[1;33m\u001b[0m\u001b[0m\n\u001b[0m",
      "\u001b[1;31mAttributeError\u001b[0m: 'NoneType' object has no attribute 'printSchema'"
     ]
    }
   ],
   "source": [
    "originals_netflix_modified.printSchema()"
   ]
  },
  {
   "cell_type": "code",
   "execution_count": null,
   "id": "93221f3c",
   "metadata": {},
   "outputs": [],
   "source": [
    "originals_netflix_modified = spark.sql(\"\"\"\n",
    "    SELECT DISTINCT\n",
    "    Title,\n",
    "    Genre,\n",
    "    CASE\n",
    "        WHEN Seasons LIKE '%TBA%' THEN 'a   ser   anunciado'\n",
    "        ELSE Seasons\n",
    "    END AS Seasons,\n",
    "    Premiere,\n",
    "    Language,\n",
    "    Active,\n",
    "    Status,\n",
    "    dt_inclusao,\n",
    "    current_date AS `Data de Alteração`\n",
    "    FROM originals_netflix_modified\n",
    "\"\"\")"
   ]
  },
  {
   "cell_type": "code",
   "execution_count": null,
   "id": "6cd641b9",
   "metadata": {},
   "outputs": [],
   "source": [
    "#Escrevendo diretamente de um ambiente aws\n",
    "s3_path = \"\"\"s3://'{path}'\"\"\"\n",
    "originals_netflix_modified.write.format(\"com.databricks.spark.csv\").option(\"header\", \"true\").save(s3_path)"
   ]
  }
 ],
 "metadata": {
  "interpreter": {
   "hash": "69bb2fd2ce50414ec0a459f55a2c459ce8f6b88c78656cb9bb8bcc7015cc73a0"
  },
  "kernelspec": {
   "display_name": "Python 3.9.6 64-bit",
   "name": "python3"
  },
  "language_info": {
   "codemirror_mode": {
    "name": "ipython",
    "version": 3
   },
   "file_extension": ".py",
   "mimetype": "text/x-python",
   "name": "python",
   "nbconvert_exporter": "python",
   "pygments_lexer": "ipython3",
   "version": "3.9.6"
  }
 },
 "nbformat": 4,
 "nbformat_minor": 5
}
