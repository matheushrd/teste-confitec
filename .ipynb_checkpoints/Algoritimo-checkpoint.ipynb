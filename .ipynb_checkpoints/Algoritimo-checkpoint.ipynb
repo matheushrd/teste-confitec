{
 "cells": [
  {
   "cell_type": "code",
   "execution_count": 3,
   "id": "c7c8bdf8",
   "metadata": {},
   "outputs": [
    {
     "name": "stdout",
     "output_type": "stream",
     "text": [
      "[[1 1 1 ... 0 0 0]\n",
      " [1 1 1 ... 0 1 1]\n",
      " [1 1 1 ... 1 0 0]\n",
      " ...\n",
      " [1 0 1 ... 0 1 0]\n",
      " [1 1 1 ... 0 1 0]\n",
      " [1 1 0 ... 0 0 0]] \n",
      "\n",
      " [[0 0 1 ... 0 1 0]\n",
      " [0 0 1 ... 0 0 0]\n",
      " [0 1 1 ... 0 0 1]\n",
      " ...\n",
      " [0 1 1 ... 1 1 0]\n",
      " [1 0 1 ... 1 0 1]\n",
      " [0 0 0 ... 0 0 1]] \n",
      "\n",
      " [[249 258 238 ... 237 249 221]\n",
      " [227 235 243 ... 238 251 228]\n",
      " [224 246 244 ... 234 255 238]\n",
      " ...\n",
      " [244 242 236 ... 235 234 234]\n",
      " [235 239 223 ... 230 245 232]\n",
      " [254 260 245 ... 246 248 231]]\n"
     ]
    }
   ],
   "source": [
    "import numpy as np\n",
    "n = 1000\n",
    "A = np.random.randint(2, size=(n,n))\n",
    "B = np.random.randint(2, size=(n,n))\n",
    "product = np.matmul(A, B)\n",
    "print(A,'\\n\\n',B,'\\n\\n', product)"
   ]
  },
  {
   "cell_type": "code",
   "execution_count": null,
   "id": "b8c7cf2b",
   "metadata": {},
   "outputs": [],
   "source": []
  }
 ],
 "metadata": {
  "kernelspec": {
   "display_name": "Python 3",
   "language": "python",
   "name": "python3"
  },
  "language_info": {
   "codemirror_mode": {
    "name": "ipython",
    "version": 3
   },
   "file_extension": ".py",
   "mimetype": "text/x-python",
   "name": "python",
   "nbconvert_exporter": "python",
   "pygments_lexer": "ipython3",
   "version": "3.9.6"
  }
 },
 "nbformat": 4,
 "nbformat_minor": 5
}
